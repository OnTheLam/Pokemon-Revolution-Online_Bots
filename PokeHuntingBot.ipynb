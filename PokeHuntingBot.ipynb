{
 "cells": [
  {
   "cell_type": "code",
   "execution_count": 1,
   "id": "c5629005",
   "metadata": {},
   "outputs": [],
   "source": [
    "import pyautogui\n",
    "import time\n",
    "import datetime"
   ]
  },
  {
   "cell_type": "code",
   "execution_count": 1,
   "id": "168a3671",
   "metadata": {},
   "outputs": [
    {
     "ename": "NameError",
     "evalue": "name 'datetime' is not defined",
     "output_type": "error",
     "traceback": [
      "\u001b[1;31m---------------------------------------------------------------------------\u001b[0m",
      "\u001b[1;31mNameError\u001b[0m                                 Traceback (most recent call last)",
      "\u001b[1;32m~\\AppData\\Local\\Temp/ipykernel_18104/2096119231.py\u001b[0m in \u001b[0;36m<module>\u001b[1;34m\u001b[0m\n\u001b[0;32m      1\u001b[0m \u001b[1;31m# pyautogui.FAILSAFE = False\u001b[0m\u001b[1;33m\u001b[0m\u001b[1;33m\u001b[0m\u001b[0m\n\u001b[0;32m      2\u001b[0m \u001b[1;33m\u001b[0m\u001b[0m\n\u001b[1;32m----> 3\u001b[1;33m \u001b[0mprint\u001b[0m\u001b[1;33m(\u001b[0m\u001b[1;34m\"Started at {}\"\u001b[0m\u001b[1;33m.\u001b[0m\u001b[0mformat\u001b[0m\u001b[1;33m(\u001b[0m\u001b[0mdatetime\u001b[0m\u001b[1;33m.\u001b[0m\u001b[0mdatetime\u001b[0m\u001b[1;33m.\u001b[0m\u001b[0mnow\u001b[0m\u001b[1;33m(\u001b[0m\u001b[1;33m)\u001b[0m\u001b[1;33m.\u001b[0m\u001b[0mtime\u001b[0m\u001b[1;33m(\u001b[0m\u001b[1;33m)\u001b[0m\u001b[1;33m)\u001b[0m\u001b[1;33m)\u001b[0m\u001b[1;33m\u001b[0m\u001b[1;33m\u001b[0m\u001b[0m\n\u001b[0m\u001b[0;32m      4\u001b[0m \u001b[1;33m\u001b[0m\u001b[0m\n\u001b[0;32m      5\u001b[0m \u001b[1;32mwhile\u001b[0m \u001b[1;32mTrue\u001b[0m\u001b[1;33m:\u001b[0m\u001b[1;33m\u001b[0m\u001b[1;33m\u001b[0m\u001b[0m\n",
      "\u001b[1;31mNameError\u001b[0m: name 'datetime' is not defined"
     ]
    }
   ],
   "source": [
    "# pyautogui.FAILSAFE = False\n",
    "\n",
    "print(\"Started at {}\".format(datetime.datetime.now().time()))\n",
    "\n",
    "while True:\n",
    "    day_of_week = datetime.date.today().weekday() # 0 is Monday, 6 is Sunday\n",
    "    time_of_day = datetime.datetime.now().time()\n",
    "    \n",
    "    time.sleep(5)\n",
    "\n",
    "    ### Move left and right\n",
    "    for i in range(0,500):\n",
    "        \n",
    "        pyautogui.keyDown('right')\n",
    "        time.sleep(400/1000)\n",
    "        pyautogui.keyUp('right')\n",
    "        \n",
    "        pyautogui.keyDown('left')\n",
    "        time.sleep(400/1000)\n",
    "        pyautogui.keyUp('left')\n",
    "        \n",
    "        time.sleep(100/1000)\n",
    "        pyautogui.press('4')\n",
    "                        \n",
    "        print(i+1)\n",
    "    \n",
    "    print(\"Ended at {}\".format(datetime.datetime.now().time()))\n",
    "    break   \n",
    "                        "
   ]
  },
  {
   "cell_type": "code",
   "execution_count": null,
   "id": "092a0103",
   "metadata": {},
   "outputs": [],
   "source": [
    "# pyautogui.FAILSAFE = False\n",
    "\n",
    "print(\"Started at {}\".format(datetime.datetime.now().time()))\n",
    "\n",
    "while True:\n",
    "    day_of_week = datetime.date.today().weekday() # 0 is Monday, 6 is Sunday\n",
    "    time_of_day = datetime.datetime.now().time()\n",
    "    \n",
    "    time.sleep(5)\n",
    "    \n",
    "### Use a Max Repel then take 250 steps left/right 10 times\n",
    "    for repels in range(0,10):\n",
    "        \n",
    "### Activate if using repels\n",
    "#         pyautogui.press('6')\n",
    "#         print(\"Repels used {}\".format(repels+1))\n",
    "        \n",
    "        ### Land Mount\n",
    "        for i in range(0,125):\n",
    "            pyautogui.press('right')\n",
    "            time.sleep(15/1000)\n",
    "            pyautogui.press('left')\n",
    "            time.sleep(15/1000)\n",
    "            pyautogui.press('4')\n",
    "            #time.sleep(10/100)\n",
    "            \n",
    "        ### Swim Mount\n",
    "#         for i in range(0,125):\n",
    "#             pyautogui.press('right')\n",
    "#             time.sleep(30/1000)\n",
    "#             pyautogui.press('left')\n",
    "#             time.sleep(30/1000)\n",
    "#             pyautogui.press('4')\n",
    "#             time.sleep(1/100)\n",
    "            \n",
    "        ### Walking\n",
    "#         for i in range(0,125):\n",
    "#             pyautogui.press('right')\n",
    "#             time.sleep(30/1000)\n",
    "#             pyautogui.press('left')\n",
    "#             time.sleep(30/1000)\n",
    "#             pyautogui.press('4')\n",
    "#             time.sleep(1/100)\n",
    "            \n",
    "    print(\"Ended at {}\".format(datetime.datetime.now().time()))\n",
    "    break "
   ]
  }
 ],
 "metadata": {
  "kernelspec": {
   "display_name": "Python 3 (ipykernel)",
   "language": "python",
   "name": "python3"
  },
  "language_info": {
   "codemirror_mode": {
    "name": "ipython",
    "version": 3
   },
   "file_extension": ".py",
   "mimetype": "text/x-python",
   "name": "python",
   "nbconvert_exporter": "python",
   "pygments_lexer": "ipython3",
   "version": "3.9.7"
  }
 },
 "nbformat": 4,
 "nbformat_minor": 5
}
