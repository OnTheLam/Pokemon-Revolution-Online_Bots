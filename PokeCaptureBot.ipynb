{
 "cells": [
  {
   "cell_type": "code",
   "execution_count": 1,
   "id": "ebb8b48c",
   "metadata": {},
   "outputs": [],
   "source": [
    "import pyautogui\n",
    "import time\n",
    "import datetime\n",
    "#import numpy as np\n",
    "#import cv2\n",
    "#import pytesseract\n",
    "#from pillow import Image\n",
    "#from mss import mss"
   ]
  },
  {
   "cell_type": "code",
   "execution_count": 4,
   "id": "5ce031d9",
   "metadata": {},
   "outputs": [
    {
     "data": {
      "text/plain": [
       "[]"
      ]
     },
     "execution_count": 4,
     "metadata": {},
     "output_type": "execute_result"
    }
   ],
   "source": [
    "pyautogui.locateOnScreen('pokeName.png')\n",
    "list(pyautogui.locateAllOnScreen('pokeName.png'))\n",
    "\n",
    "\n",
    "#bounding_box = {'top': 100, 'left': 0, 'width': 400, 'height': 300}\n",
    "\n",
    "#sct = mss()\n",
    "\n",
    "#while True:\n",
    "#    sct_img = sct.grab(bounding_box)\n",
    "#    cv2.imshow('screen', np.array(sct_img))\n",
    "\n",
    "#    if (cv2.waitKey(1) & 0xFF) == ord('q'):\n",
    "#        cv2.destroyAllWindows()\n",
    "#        break"
   ]
  },
  {
   "cell_type": "code",
   "execution_count": null,
   "id": "f1c3a953",
   "metadata": {},
   "outputs": [],
   "source": []
  }
 ],
 "metadata": {
  "kernelspec": {
   "display_name": "Python 3 (ipykernel)",
   "language": "python",
   "name": "python3"
  },
  "language_info": {
   "codemirror_mode": {
    "name": "ipython",
    "version": 3
   },
   "file_extension": ".py",
   "mimetype": "text/x-python",
   "name": "python",
   "nbconvert_exporter": "python",
   "pygments_lexer": "ipython3",
   "version": "3.9.7"
  }
 },
 "nbformat": 4,
 "nbformat_minor": 5
}
