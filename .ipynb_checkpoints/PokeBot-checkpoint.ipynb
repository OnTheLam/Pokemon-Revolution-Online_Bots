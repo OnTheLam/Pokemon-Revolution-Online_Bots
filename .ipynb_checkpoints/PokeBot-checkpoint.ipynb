{
 "cells": [
  {
   "cell_type": "code",
   "execution_count": 1,
   "id": "4c8a30fd",
   "metadata": {},
   "outputs": [],
   "source": [
    "import pyautogui\n",
    "import time\n",
    "import datetime"
   ]
  },
  {
   "cell_type": "code",
   "execution_count": 7,
   "id": "5d4512d2",
   "metadata": {},
   "outputs": [
    {
     "name": "stdout",
     "output_type": "stream",
     "text": [
      "Started at 16:30:02.610271\n",
      "2\n",
      "4\n",
      "6\n",
      "8\n",
      "10\n",
      "12\n",
      "14\n",
      "16\n",
      "18\n",
      "20\n",
      "Ended at 16:30:07.914584\n"
     ]
    }
   ],
   "source": [
    "pyautogui.FAILSAFE = False\n",
    "var clock = \n",
    "\n",
    "print(\"Started at {}\".format(datetime.datetime.now().time()))\n",
    "\n",
    "while True:\n",
    "    day_of_week = datetime.date.today().weekday() # 0 is Monday, 6 is Sunday\n",
    "    time_of_day = datetime.datetime.now().time()\n",
    "    steps = 0\n",
    "\n",
    "    ### Take 20 steps left and right,\n",
    "    for i in range(0,10):\n",
    "        pyautogui.press('left')\n",
    "        time.sleep(300/1000)\n",
    "        pyautogui.press('right')\n",
    "        steps += 2\n",
    "        print(steps)\n",
    "    print(\"Ended at {}\".format(datetime.datetime.now().time()))\n",
    "    break   "
   ]
  },
  {
   "cell_type": "code",
   "execution_count": null,
   "id": "5a622506",
   "metadata": {},
   "outputs": [],
   "source": []
  }
 ],
 "metadata": {
  "kernelspec": {
   "display_name": "Python 3 (ipykernel)",
   "language": "python",
   "name": "python3"
  },
  "language_info": {
   "codemirror_mode": {
    "name": "ipython",
    "version": 3
   },
   "file_extension": ".py",
   "mimetype": "text/x-python",
   "name": "python",
   "nbconvert_exporter": "python",
   "pygments_lexer": "ipython3",
   "version": "3.10.9"
  }
 },
 "nbformat": 4,
 "nbformat_minor": 5
}
